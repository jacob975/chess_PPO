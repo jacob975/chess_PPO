{
 "cells": [
  {
   "cell_type": "code",
   "execution_count": 1,
   "metadata": {},
   "outputs": [
    {
     "name": "stderr",
     "output_type": "stream",
     "text": [
      "c:\\Users\\User\\anaconda3\\envs\\gym_chess\\lib\\site-packages\\tqdm\\auto.py:21: TqdmWarning: IProgress not found. Please update jupyter and ipywidgets. See https://ipywidgets.readthedocs.io/en/stable/user_install.html\n",
      "  from .autonotebook import tqdm as notebook_tqdm\n"
     ]
    }
   ],
   "source": [
    "from stable_baselines3 import ppo\n",
    "import gym\n",
    "from pettingzoo.classic import chess_v5\n",
    "import time\n",
    "import numpy as np"
   ]
  },
  {
   "cell_type": "code",
   "execution_count": 10,
   "metadata": {},
   "outputs": [],
   "source": [
    "# Declare a chess environment with ansi rendering\n",
    "env = chess_v5.env(render_mode=\"ansi\")"
   ]
  },
  {
   "cell_type": "code",
   "execution_count": 11,
   "metadata": {},
   "outputs": [
    {
     "name": "stdout",
     "output_type": "stream",
     "text": [
      "Discrete(4672)\n",
      "Dict('action_mask': Box(0, 1, (4672,), int8), 'observation': Box(False, True, (8, 8, 111), bool))\n"
     ]
    }
   ],
   "source": [
    "print(env.action_space('player_0'))\n",
    "print(env.observation_space('player_0'))\n"
   ]
  },
  {
   "cell_type": "code",
   "execution_count": 39,
   "metadata": {},
   "outputs": [
    {
     "name": "stdout",
     "output_type": "stream",
     "text": [
      "r n b q k b n r\n",
      "p p p p p p p p\n",
      ". . . . . . . .\n",
      ". . . . . . . .\n",
      ". . . . . . . .\n",
      ". . . . . . . .\n",
      "P P P P P P P P\n",
      "R N B Q K B N R\n",
      "(8, 8, 111)\n",
      "(4672,)\n",
      "(array([  77,   85,  643,  645,  661,  669, 1245, 1253, 1829, 1837, 2413,\n",
      "       2421, 2997, 3005, 3563, 3565, 3581, 3589, 4165, 4173], dtype=int64),)\n",
      "r n b q k b n r\n",
      "p p p p p p p p\n",
      ". . . . . . . .\n",
      ". . . . . . . .\n",
      ". . . . . . . .\n",
      "N . . . . . . .\n",
      "P P P P P P P P\n",
      "R . B Q K B N R\n"
     ]
    }
   ],
   "source": [
    "# Reset the environment with ansi rendering\n",
    "env.reset()\n",
    "# Show the board\n",
    "print(env.render())\n",
    "# Show all legal moves\n",
    "#print(env.observe('player_0'))\n",
    "print(env.observe('player_0')['observation'].shape)\n",
    "print(env.observe('player_0')['action_mask'].shape)\n",
    "# Move a piece\n",
    "print(np.where(env.observe('player_0')['action_mask'] > 0)[0])\n",
    "env.step(643)\n",
    "# Show the board\n",
    "print(env.render())\n",
    "\n"
   ]
  },
  {
   "cell_type": "code",
   "execution_count": 44,
   "metadata": {},
   "outputs": [
    {
     "name": "stdout",
     "output_type": "stream",
     "text": [
      "Possible actions:  [  77   85  643  645  661  669 1245 1253 1829 1837 2413 2421 2997 3005\n",
      " 3563 3565 3581 3589 4165 4173]\n",
      "r n b q k b n r\n",
      "p p p p p p p p\n",
      ". . . . . . . .\n",
      ". . . . . . . .\n",
      ". . . . . . . .\n",
      "P . . . . . . .\n",
      ". P P P P P P P\n",
      "R N B Q K B N R\n",
      "Possible actions:  [  77   85  643  645  661  669 1245 1253 1829 1837 2413 2421 2997 3005\n",
      " 3563 3565 3581 3589 4165 4173]\n",
      "r . b q k b n r\n",
      "p p p p p p p p\n",
      "n . . . . . . .\n",
      ". . . . . . . .\n",
      ". . . . . . . .\n",
      "P . . . . . . .\n",
      ". P P P P P P P\n",
      "R N B Q K B N R\n",
      "Possible actions:  [   4  150  645  661  669 1245 1253 1829 1837 2413 2421 2997 3005 3563\n",
      " 3565 3581 3589 4165 4173]\n",
      "r . b q k b n r\n",
      "p p p p p p p p\n",
      "n . . . . . . .\n",
      ". . . . . . . .\n",
      "P . . . . . . .\n",
      ". . . . . . . .\n",
      ". P P P P P P P\n",
      "R N B Q K B N R\n",
      "Possible actions:  [   6  206  207  209  661  669 1245 1253 1829 1837 2413 2421 2997 3005\n",
      " 3563 3565 3581 3589 4165 4173]\n"
     ]
    },
    {
     "ename": "ValueError",
     "evalue": "invalid literal for int() with base 10: ''",
     "output_type": "error",
     "traceback": [
      "\u001b[1;31m---------------------------------------------------------------------------\u001b[0m",
      "\u001b[1;31mValueError\u001b[0m                                Traceback (most recent call last)",
      "Cell \u001b[1;32mIn[44], line 10\u001b[0m\n\u001b[0;32m      8\u001b[0m \u001b[39mprint\u001b[39m(\u001b[39m\"\u001b[39m\u001b[39mPossible actions: \u001b[39m\u001b[39m\"\u001b[39m, possible_actions)\n\u001b[0;32m      9\u001b[0m \u001b[39m# Get the action\u001b[39;00m\n\u001b[1;32m---> 10\u001b[0m action \u001b[39m=\u001b[39m \u001b[39mint\u001b[39;49m(\u001b[39minput\u001b[39;49m(\u001b[39m\"\u001b[39;49m\u001b[39mEnter action: \u001b[39;49m\u001b[39m\"\u001b[39;49m))\n\u001b[0;32m     11\u001b[0m \u001b[39m# Step the environment\u001b[39;00m\n\u001b[0;32m     12\u001b[0m env\u001b[39m.\u001b[39mstep(action)\n",
      "\u001b[1;31mValueError\u001b[0m: invalid literal for int() with base 10: ''"
     ]
    }
   ],
   "source": [
    "# Play the chess manually\n",
    "env.reset()\n",
    "done = False\n",
    "iter = 0\n",
    "while not done:\n",
    "    # Show all legal moves as a prompt to user\n",
    "    possible_actions = np.where(env.observe(f'player_{iter}')['action_mask'] > 0)[0]\n",
    "    print(\"Possible actions: \", possible_actions)\n",
    "    # Get the action\n",
    "    action = int(input(\"Enter action: \"))\n",
    "    # Step the environment\n",
    "    env.step(action)\n",
    "    # Show the board\n",
    "    print(env.render())\n",
    "    iter = (iter+1) % 2"
   ]
  },
  {
   "cell_type": "code",
   "execution_count": null,
   "metadata": {},
   "outputs": [],
   "source": [
    "# A function to set the weights of an agent by another agent\n",
    "def set_weights(agent, opponent):\n",
    "    agent.policy.load_state_dict(opponent.policy.state_dict())"
   ]
  }
 ],
 "metadata": {
  "kernelspec": {
   "display_name": "Python 3",
   "language": "python",
   "name": "python3"
  },
  "language_info": {
   "codemirror_mode": {
    "name": "ipython",
    "version": 3
   },
   "file_extension": ".py",
   "mimetype": "text/x-python",
   "name": "python",
   "nbconvert_exporter": "python",
   "pygments_lexer": "ipython3",
   "version": "3.10.9"
  },
  "orig_nbformat": 4,
  "vscode": {
   "interpreter": {
    "hash": "c347c8f9a7ef94e4c9e03b4513be7835ed18f45b99a2a817fb579f408b867b16"
   }
  }
 },
 "nbformat": 4,
 "nbformat_minor": 2
}
