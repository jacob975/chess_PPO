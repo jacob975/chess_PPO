{
 "cells": [
  {
   "attachments": {},
   "cell_type": "markdown",
   "metadata": {},
   "source": [
    "# Test the chess in pettingzoo "
   ]
  },
  {
   "cell_type": "code",
   "execution_count": 1,
   "metadata": {},
   "outputs": [
    {
     "name": "stderr",
     "output_type": "stream",
     "text": [
      "c:\\Users\\User\\anaconda3\\envs\\gym_chess\\lib\\site-packages\\tqdm\\auto.py:21: TqdmWarning: IProgress not found. Please update jupyter and ipywidgets. See https://ipywidgets.readthedocs.io/en/stable/user_install.html\n",
      "  from .autonotebook import tqdm as notebook_tqdm\n"
     ]
    }
   ],
   "source": [
    "from stable_baselines3 import ppo\n",
    "import gym\n",
    "from pettingzoo.classic import chess_v5\n",
    "import time\n",
    "import numpy as np"
   ]
  },
  {
   "cell_type": "code",
   "execution_count": 7,
   "metadata": {},
   "outputs": [],
   "source": [
    "# Declare a chess environment with ansi rendering\n",
    "env = chess_v5.env(render_mode=\"ansi\")"
   ]
  },
  {
   "cell_type": "code",
   "execution_count": 8,
   "metadata": {},
   "outputs": [
    {
     "name": "stdout",
     "output_type": "stream",
     "text": [
      "Discrete(4672)\n",
      "Dict('action_mask': Box(0, 1, (4672,), int8), 'observation': Box(False, True, (8, 8, 111), bool))\n"
     ]
    }
   ],
   "source": [
    "print(env.action_space('player_0'))\n",
    "print(env.observation_space('player_0'))\n"
   ]
  },
  {
   "cell_type": "code",
   "execution_count": 9,
   "metadata": {},
   "outputs": [
    {
     "name": "stdout",
     "output_type": "stream",
     "text": [
      "r n b q k b n r\n",
      "p p p p p p p p\n",
      ". . . . . . . .\n",
      ". . . . . . . .\n",
      ". . . . . . . .\n",
      ". . . . . . . .\n",
      "P P P P P P P P\n",
      "R N B Q K B N R\n",
      "(8, 8, 111)\n",
      "(4672,)\n",
      "[  77   85  643  645  661  669 1245 1253 1829 1837 2413 2421 2997 3005\n",
      " 3563 3565 3581 3589 4165 4173]\n",
      "r n b q k b n r\n",
      "p p p p p p p p\n",
      ". . . . . . . .\n",
      ". . . . . . . .\n",
      ". . . . . . . .\n",
      "N . . . . . . .\n",
      "P P P P P P P P\n",
      "R . B Q K B N R\n"
     ]
    }
   ],
   "source": [
    "# Reset the environment with ansi rendering\n",
    "env.reset()\n",
    "# Show the board\n",
    "print(env.render())\n",
    "# Show all legal moves\n",
    "#print(env.observe('player_0'))\n",
    "print(env.observe('player_0')['observation'].shape)\n",
    "print(env.observe('player_0')['action_mask'].shape)\n",
    "# Move a piece\n",
    "print(np.where(env.observe('player_0')['action_mask'] > 0)[0])\n",
    "env.step(643)\n",
    "# Show the board\n",
    "print(env.render())\n",
    "\n"
   ]
  },
  {
   "cell_type": "code",
   "execution_count": 15,
   "metadata": {},
   "outputs": [
    {
     "name": "stdout",
     "output_type": "stream",
     "text": [
      "[[False False False False False False False False]\n",
      " [ True  True  True  True  True False  True  True]\n",
      " [False False False False False  True False False]\n",
      " [False False False False False False False False]\n",
      " [False False False False False False False False]\n",
      " [False False False False False False False False]\n",
      " [False False False False False False False False]\n",
      " [False False False False False False False False]]\n",
      "[[False False False False False False False False]\n",
      " [ True  True  True  True  True False  True  True]\n",
      " [False False False False False  True False False]\n",
      " [False False False False False False False False]\n",
      " [False False False False False False False False]\n",
      " [False False False False False False False False]\n",
      " [False False False False False False False False]\n",
      " [False False False False False False False False]]\n",
      "[[False False False False False False False False]\n",
      " [ True  True  True  True False False  True  True]\n",
      " [False False False False  True  True False False]\n",
      " [False False False False False False False False]\n",
      " [False False False False False False False False]\n",
      " [False False False False False False False False]\n",
      " [False False False False False False False False]\n",
      " [False False False False False False False False]]\n",
      "[[False False False False False False False False]\n",
      " [ True  True  True  True  True False  True  True]\n",
      " [False False False False False  True False False]\n",
      " [False False False False False False False False]\n",
      " [False False False False False False False False]\n",
      " [False False False False False False False False]\n",
      " [False False False False False False False False]\n",
      " [False False False False False False False False]]\n"
     ]
    }
   ],
   "source": [
    "obs = env.observe('player_1')['observation']\n",
    "print(obs[...,13])\n",
    "print(obs[...,26])\n",
    "\n",
    "action = np.random.choice(np.where(env.observe('player_0')['action_mask'] > 0)[0])\n",
    "env.step(action)\n",
    "action = np.random.choice(np.where(env.observe('player_1')['action_mask'] > 0)[0])\n",
    "env.step(action)\n",
    "\n",
    "obs = env.observe('player_1')['observation']\n",
    "print(obs[...,13])\n",
    "print(obs[...,26])"
   ]
  },
  {
   "cell_type": "code",
   "execution_count": 24,
   "metadata": {},
   "outputs": [
    {
     "name": "stdout",
     "output_type": "stream",
     "text": [
      "[[False False False False False False False False]\n",
      " [False False False False False False False False]\n",
      " [False False False False False False False False]\n",
      " [False False False False False False False False]\n",
      " [False False False  True False False False False]\n",
      " [False False False False False False False False]\n",
      " [ True  True  True False  True  True  True  True]\n",
      " [False False False False False False False False]]\n",
      "[[False False False  True False False False False]\n",
      " [False False False False False False False False]\n",
      " [False False False False False False False False]\n",
      " [False False False False False False False False]\n",
      " [False False False False False False False False]\n",
      " [False False False False False False False False]\n",
      " [False False False False False False False False]\n",
      " [False False False False False False False False]]\n"
     ]
    }
   ],
   "source": [
    "obs0 = env.observe('player_0')['observation']\n",
    "print(obs0[...,7])\n",
    "obs1 = env.observe('player_1')['observation']\n",
    "print(obs1[...,18])"
   ]
  },
  {
   "cell_type": "code",
   "execution_count": 44,
   "metadata": {},
   "outputs": [
    {
     "name": "stdout",
     "output_type": "stream",
     "text": [
      "Possible actions:  [  77   85  643  645  661  669 1245 1253 1829 1837 2413 2421 2997 3005\n",
      " 3563 3565 3581 3589 4165 4173]\n",
      "r n b q k b n r\n",
      "p p p p p p p p\n",
      ". . . . . . . .\n",
      ". . . . . . . .\n",
      ". . . . . . . .\n",
      "P . . . . . . .\n",
      ". P P P P P P P\n",
      "R N B Q K B N R\n",
      "Possible actions:  [  77   85  643  645  661  669 1245 1253 1829 1837 2413 2421 2997 3005\n",
      " 3563 3565 3581 3589 4165 4173]\n",
      "r . b q k b n r\n",
      "p p p p p p p p\n",
      "n . . . . . . .\n",
      ". . . . . . . .\n",
      ". . . . . . . .\n",
      "P . . . . . . .\n",
      ". P P P P P P P\n",
      "R N B Q K B N R\n",
      "Possible actions:  [   4  150  645  661  669 1245 1253 1829 1837 2413 2421 2997 3005 3563\n",
      " 3565 3581 3589 4165 4173]\n",
      "r . b q k b n r\n",
      "p p p p p p p p\n",
      "n . . . . . . .\n",
      ". . . . . . . .\n",
      "P . . . . . . .\n",
      ". . . . . . . .\n",
      ". P P P P P P P\n",
      "R N B Q K B N R\n",
      "Possible actions:  [   6  206  207  209  661  669 1245 1253 1829 1837 2413 2421 2997 3005\n",
      " 3563 3565 3581 3589 4165 4173]\n"
     ]
    },
    {
     "ename": "ValueError",
     "evalue": "invalid literal for int() with base 10: ''",
     "output_type": "error",
     "traceback": [
      "\u001b[1;31m---------------------------------------------------------------------------\u001b[0m",
      "\u001b[1;31mValueError\u001b[0m                                Traceback (most recent call last)",
      "Cell \u001b[1;32mIn[44], line 10\u001b[0m\n\u001b[0;32m      8\u001b[0m \u001b[39mprint\u001b[39m(\u001b[39m\"\u001b[39m\u001b[39mPossible actions: \u001b[39m\u001b[39m\"\u001b[39m, possible_actions)\n\u001b[0;32m      9\u001b[0m \u001b[39m# Get the action\u001b[39;00m\n\u001b[1;32m---> 10\u001b[0m action \u001b[39m=\u001b[39m \u001b[39mint\u001b[39;49m(\u001b[39minput\u001b[39;49m(\u001b[39m\"\u001b[39;49m\u001b[39mEnter action: \u001b[39;49m\u001b[39m\"\u001b[39;49m))\n\u001b[0;32m     11\u001b[0m \u001b[39m# Step the environment\u001b[39;00m\n\u001b[0;32m     12\u001b[0m env\u001b[39m.\u001b[39mstep(action)\n",
      "\u001b[1;31mValueError\u001b[0m: invalid literal for int() with base 10: ''"
     ]
    }
   ],
   "source": [
    "# Play the chess manually\n",
    "env.reset()\n",
    "done = False\n",
    "iter = 0\n",
    "while not done:\n",
    "    # Show all legal moves as a prompt to user\n",
    "    possible_actions = np.where(env.observe(f'player_{iter}')['action_mask'] > 0)[0]\n",
    "    print(\"Possible actions: \", possible_actions)\n",
    "    # Get the action\n",
    "    action = int(input(\"Enter action: \"))\n",
    "    # Step the environment\n",
    "    env.step(action)\n",
    "    # Show the board\n",
    "    print(env.render())\n",
    "    iter = (iter+1) % 2"
   ]
  },
  {
   "attachments": {},
   "cell_type": "markdown",
   "metadata": {},
   "source": [
    "# Test the wrapped gym chess"
   ]
  },
  {
   "cell_type": "code",
   "execution_count": 6,
   "metadata": {},
   "outputs": [],
   "source": [
    "from gym_chess import GymChessEnv\n",
    "import numpy as np"
   ]
  },
  {
   "cell_type": "code",
   "execution_count": 7,
   "metadata": {},
   "outputs": [
    {
     "name": "stdout",
     "output_type": "stream",
     "text": [
      "r n b q k b n r\n",
      ". p . . p p . p\n",
      ". . p p . . p .\n",
      "p . . . . . . .\n",
      ". P . . P . P .\n",
      ". . . . . . . .\n",
      "P . P P B P . P\n",
      "R N B Q K . N R\n"
     ]
    }
   ],
   "source": [
    "env = GymChessEnv()\n",
    "print(env.render())"
   ]
  },
  {
   "cell_type": "code",
   "execution_count": 9,
   "metadata": {},
   "outputs": [
    {
     "name": "stdout",
     "output_type": "stream",
     "text": [
      "4\n",
      "The player's turn is:  0\n",
      "[[False  True False False False False  True False]\n",
      " [False False False False False False False False]\n",
      " [False False False False False False False False]\n",
      " [False False False False False False False False]\n",
      " [False False False False False False False False]\n",
      " [False False False False False False False False]\n",
      " [False False False False False False False False]\n",
      " [False False False False False False False False]]\n",
      "(111, 8, 8)\n",
      ". n b q k b n r\n",
      "r p . . p p . p\n",
      ". . p p . . p .\n",
      "p . . . . . . .\n",
      ". P . . P . P .\n",
      ". . . . . . . .\n",
      "P . P P B P . P\n",
      "R N B Q K . N R\n",
      "The player's turn is:  1\n",
      "[[False  True False False False False  True False]\n",
      " [False False False False False False False False]\n",
      " [False False False False False False False False]\n",
      " [False False False False False False False False]\n",
      " [False False False False False False False False]\n",
      " [False False False False False False False False]\n",
      " [False False False False False False False False]\n",
      " [False False False False False False False False]]\n",
      "(111, 8, 8)\n",
      ". n b q k b n r\n",
      "r p . . p p . p\n",
      ". . p p . . p .\n",
      "p . . . . . . .\n",
      ". P . P P . P .\n",
      ". . . . . . . .\n",
      "P . P . B P . P\n",
      "R N B Q K . N R\n"
     ]
    }
   ],
   "source": [
    "# The current chess board\n",
    "obs = env.observe('player_1')['observation']\n",
    "\n",
    "# Move a piece\n",
    "action = np.random.choice(np.where(env.observe('player_1')['action_mask'] > 0)[0])\n",
    "print(action)\n",
    "_ = env.step(action)"
   ]
  },
  {
   "cell_type": "code",
   "execution_count": 16,
   "metadata": {},
   "outputs": [
    {
     "name": "stdout",
     "output_type": "stream",
     "text": [
      "1207\n",
      "[[False False False False False False False False]\n",
      " [ True  True  True False  True False  True False]\n",
      " [False False False False False False False False]\n",
      " [False False False  True False False False  True]\n",
      " [False False False False  True False False False]\n",
      " [False False False False False False False False]\n",
      " [False False False False False False False False]\n",
      " [False False False False False False False False]]\n"
     ]
    }
   ],
   "source": [
    "action = np.random.choice(np.where(env.observe('player_0')['action_mask'] > 0)[0])\n",
    "print(action)\n",
    "env.step(action)\n",
    "obs = env.observe('player_1')['observation']\n",
    "print(obs[13])"
   ]
  },
  {
   "cell_type": "code",
   "execution_count": 12,
   "metadata": {},
   "outputs": [
    {
     "name": "stdout",
     "output_type": "stream",
     "text": [
      "r . b . k b n r\n",
      ". p q p . p p p\n",
      "n . . . . . . .\n",
      "p . p . p . . .\n",
      "P . . P . . . P\n",
      "N . . . . . . .\n",
      "R P P . P P P .\n",
      ". . B Q K B N R\n"
     ]
    }
   ],
   "source": [
    "print(env.render())"
   ]
  },
  {
   "cell_type": "code",
   "execution_count": null,
   "metadata": {},
   "outputs": [],
   "source": []
  }
 ],
 "metadata": {
  "kernelspec": {
   "display_name": "Python 3",
   "language": "python",
   "name": "python3"
  },
  "language_info": {
   "codemirror_mode": {
    "name": "ipython",
    "version": 3
   },
   "file_extension": ".py",
   "mimetype": "text/x-python",
   "name": "python",
   "nbconvert_exporter": "python",
   "pygments_lexer": "ipython3",
   "version": "3.10.9"
  },
  "orig_nbformat": 4,
  "vscode": {
   "interpreter": {
    "hash": "c347c8f9a7ef94e4c9e03b4513be7835ed18f45b99a2a817fb579f408b867b16"
   }
  }
 },
 "nbformat": 4,
 "nbformat_minor": 2
}
